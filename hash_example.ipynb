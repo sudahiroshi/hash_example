{
  "nbformat": 4,
  "nbformat_minor": 0,
  "metadata": {
    "colab": {
      "name": "hash_example",
      "provenance": []
    },
    "kernelspec": {
      "name": "python3",
      "display_name": "Python 3"
    }
  },
  "cells": [
    {
      "cell_type": "markdown",
      "metadata": {
        "id": "0pLPEdSaBitD",
        "colab_type": "text"
      },
      "source": [
        "# パスワードに関する回答例"
      ]
    },
    {
      "cell_type": "markdown",
      "metadata": {
        "id": "ayb42r7QBoxP",
        "colab_type": "text"
      },
      "source": [
        "## 1. 初期化"
      ]
    },
    {
      "cell_type": "code",
      "metadata": {
        "id": "U_X3xDHOBeIB",
        "colab_type": "code",
        "colab": {}
      },
      "source": [
        "import hashlib\n",
        "pass1 = {}"
      ],
      "execution_count": 0,
      "outputs": []
    },
    {
      "cell_type": "markdown",
      "metadata": {
        "id": "4r1TpRXhB_Us",
        "colab_type": "text"
      },
      "source": [
        "## 2.　IDとPasswordの登録"
      ]
    },
    {
      "cell_type": "code",
      "metadata": {
        "id": "gIPHEwqICC7P",
        "colab_type": "code",
        "colab": {}
      },
      "source": [
        "id2 = input( \"IDを入力してください\" )\n",
        "passwd2 = input( \"Passwordを入力してください\" )\n",
        "\n",
        "salt2 = \"salt\"\n",
        "\n",
        "hash2 = hashlib.sha256((salt2 + passwd2).encode()).hexdigest()\n",
        "pass1[id2] = \"6&\" + salt2 + \"&\" + hash2"
      ],
      "execution_count": 0,
      "outputs": []
    },
    {
      "cell_type": "markdown",
      "metadata": {
        "id": "lew4L3NfC__b",
        "colab_type": "text"
      },
      "source": [
        "## 3. Password一覧"
      ]
    },
    {
      "cell_type": "code",
      "metadata": {
        "id": "DQRzgmY3DD7P",
        "colab_type": "code",
        "colab": {}
      },
      "source": [
        "for key3 in pass1:\n",
        "  print( key3 + \":\" + pass1[key3] )"
      ],
      "execution_count": 0,
      "outputs": []
    },
    {
      "cell_type": "markdown",
      "metadata": {
        "id": "A8hdIzQUDLoI",
        "colab_type": "text"
      },
      "source": [
        "## 4. 疑似ログイン"
      ]
    },
    {
      "cell_type": "code",
      "metadata": {
        "id": "fkTOq2-6DWjD",
        "colab_type": "code",
        "colab": {}
      },
      "source": [
        "id4 = input( \"IDを入力してください\" )\n",
        "passwd4 = input( \"Passwordを入力してください\" )\n",
        "\n",
        "hashed4 = pass1.get(id4)\n",
        "if( hashed4 != None ):\n",
        "  # print( hashed4 )\n",
        "  hash4 = hashed4.split(\"&\")\n",
        "  # print( hash4 )\n",
        "  salt4 = hash4[1]\n",
        "  # print( salt4 )\n",
        "  newhash4 = hashlib.sha256((salt4 + passwd4).encode()).hexdigest()\n",
        "  # print( newhash4 )\n",
        "  if( hash4[2] == newhash4 ):\n",
        "    print( \"ログインできました\" )\n",
        "  else:\n",
        "    print( \"ログインできませんでした\" )\n",
        "else:\n",
        "  print( \"ログインできませんでした（IDが間違っていても通常はこのメッセージを出す）\" )"
      ],
      "execution_count": 0,
      "outputs": []
    }
  ]
}